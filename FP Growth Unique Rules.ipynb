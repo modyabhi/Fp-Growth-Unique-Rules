{
 "cells": [
  {
   "cell_type": "code",
   "execution_count": 78,
   "metadata": {},
   "outputs": [],
   "source": [
    "import pandas as pd\n",
    "from mlxtend.preprocessing import TransactionEncoder\n",
    "from mlxtend.frequent_patterns import fpgrowth as fp"
   ]
  },
  {
   "cell_type": "code",
   "execution_count": 272,
   "metadata": {},
   "outputs": [],
   "source": [
    "itemSetList = [\n",
    "    [\"beer\", \"wine\", \"cheese\"],\n",
    "    [\"beer\", \"potato chips\"],\n",
    "    [\"eggs\", \"flower\", \"butter\", \"cheese\"],\n",
    "    [\"eggs\", \"flower\", \"butter\", \"beer\", \"potato chips\"],\n",
    "    [\"wine\", \"cheese\"],\n",
    "    [\"potato chips\"],\n",
    "    [\"eggs\", \"flower\", \"butter\", \"wine\", \"cheese\"],\n",
    "    [\"eggs\", \"flower\", \"butter\", \"beer\", \"potato chips\"],\n",
    "    [\"wine\", \"beer\"],\n",
    "    [\"beer\", \"potato chips\"],\n",
    "    [\"butter\", \"eggs\"],\n",
    "    [\"beer\", \"potato chips\"],\n",
    "    [\"flower\", \"eggs\"],\n",
    "    [\"beer\", \"potato chips\"],\n",
    "    [\"eggs\", \"flower\", \"butter\", \"wine\", \"cheese\"],\n",
    "    [\"beer\", \"wine\", \"potato chips\", \"cheese\"],\n",
    "    [\"wine\", \"cheese\"],\n",
    "    [\"beer\", \"potato chips\"],\n",
    "    [\"wine\", \"cheese\"],\n",
    "    [\"beer\", \"potato chips\"],\n",
    "]"
   ]
  },
  {
   "cell_type": "code",
   "execution_count": 281,
   "metadata": {},
   "outputs": [],
   "source": [
    "te = TransactionEncoder()\n",
    "te_ary = te.fit(itemSetList).transform(itemSetList)\n",
    "df = pd.DataFrame(te_ary, columns=te.columns_)"
   ]
  },
  {
   "cell_type": "code",
   "execution_count": 282,
   "metadata": {},
   "outputs": [],
   "source": [
    "min_support = 7/len(itemSetList) \n",
    "frequent_itemsets = fp(df, min_support=min_support,use_colnames=True).sort_values('support',ascending= False)"
   ]
  },
  {
   "cell_type": "code",
   "execution_count": 283,
   "metadata": {},
   "outputs": [],
   "source": [
    "from mlxtend.frequent_patterns import association_rules\n",
    "rules = association_rules(frequent_itemsets , metric=\"confidence\", min_threshold=0.7)"
   ]
  },
  {
   "cell_type": "code",
   "execution_count": 284,
   "metadata": {},
   "outputs": [],
   "source": [
    "rules['item_list'] = rules['antecedents'].apply(list)+rules['consequents'].apply(list)\n",
    "rules['item_list'].apply(lambda x: x.sort())\n",
    "rules['item_list'] = [','.join(map(str, l)) for l in rules['item_list']]"
   ]
  },
  {
   "cell_type": "code",
   "execution_count": 285,
   "metadata": {},
   "outputs": [],
   "source": [
    "rules.drop_duplicates(subset=['item_list'],inplace = True)"
   ]
  },
  {
   "cell_type": "code",
   "execution_count": 286,
   "metadata": {},
   "outputs": [
    {
     "data": {
      "text/html": [
       "<div>\n",
       "<style scoped>\n",
       "    .dataframe tbody tr th:only-of-type {\n",
       "        vertical-align: middle;\n",
       "    }\n",
       "\n",
       "    .dataframe tbody tr th {\n",
       "        vertical-align: top;\n",
       "    }\n",
       "\n",
       "    .dataframe thead th {\n",
       "        text-align: right;\n",
       "    }\n",
       "</style>\n",
       "<table border=\"1\" class=\"dataframe\">\n",
       "  <thead>\n",
       "    <tr style=\"text-align: right;\">\n",
       "      <th></th>\n",
       "      <th>antecedents</th>\n",
       "      <th>consequents</th>\n",
       "      <th>antecedent support</th>\n",
       "      <th>consequent support</th>\n",
       "      <th>support</th>\n",
       "      <th>confidence</th>\n",
       "      <th>lift</th>\n",
       "      <th>leverage</th>\n",
       "      <th>conviction</th>\n",
       "      <th>item_list</th>\n",
       "    </tr>\n",
       "  </thead>\n",
       "  <tbody>\n",
       "    <tr>\n",
       "      <th>0</th>\n",
       "      <td>(potato chips)</td>\n",
       "      <td>(beer)</td>\n",
       "      <td>0.50</td>\n",
       "      <td>0.55</td>\n",
       "      <td>0.45</td>\n",
       "      <td>0.900000</td>\n",
       "      <td>1.636364</td>\n",
       "      <td>0.175</td>\n",
       "      <td>4.5</td>\n",
       "      <td>beer,potato chips</td>\n",
       "    </tr>\n",
       "    <tr>\n",
       "      <th>2</th>\n",
       "      <td>(wine)</td>\n",
       "      <td>(cheese)</td>\n",
       "      <td>0.40</td>\n",
       "      <td>0.40</td>\n",
       "      <td>0.35</td>\n",
       "      <td>0.875000</td>\n",
       "      <td>2.187500</td>\n",
       "      <td>0.190</td>\n",
       "      <td>4.8</td>\n",
       "      <td>cheese,wine</td>\n",
       "    </tr>\n",
       "    <tr>\n",
       "      <th>4</th>\n",
       "      <td>(eggs)</td>\n",
       "      <td>(flower)</td>\n",
       "      <td>0.35</td>\n",
       "      <td>0.30</td>\n",
       "      <td>0.30</td>\n",
       "      <td>0.857143</td>\n",
       "      <td>2.857143</td>\n",
       "      <td>0.195</td>\n",
       "      <td>4.9</td>\n",
       "      <td>eggs,flower</td>\n",
       "    </tr>\n",
       "    <tr>\n",
       "      <th>6</th>\n",
       "      <td>(eggs)</td>\n",
       "      <td>(butter)</td>\n",
       "      <td>0.35</td>\n",
       "      <td>0.30</td>\n",
       "      <td>0.30</td>\n",
       "      <td>0.857143</td>\n",
       "      <td>2.857143</td>\n",
       "      <td>0.195</td>\n",
       "      <td>4.9</td>\n",
       "      <td>butter,eggs</td>\n",
       "    </tr>\n",
       "    <tr>\n",
       "      <th>8</th>\n",
       "      <td>(flower)</td>\n",
       "      <td>(butter)</td>\n",
       "      <td>0.30</td>\n",
       "      <td>0.30</td>\n",
       "      <td>0.25</td>\n",
       "      <td>0.833333</td>\n",
       "      <td>2.777778</td>\n",
       "      <td>0.160</td>\n",
       "      <td>4.2</td>\n",
       "      <td>butter,flower</td>\n",
       "    </tr>\n",
       "    <tr>\n",
       "      <th>10</th>\n",
       "      <td>(eggs, flower)</td>\n",
       "      <td>(butter)</td>\n",
       "      <td>0.30</td>\n",
       "      <td>0.30</td>\n",
       "      <td>0.25</td>\n",
       "      <td>0.833333</td>\n",
       "      <td>2.777778</td>\n",
       "      <td>0.160</td>\n",
       "      <td>4.2</td>\n",
       "      <td>butter,eggs,flower</td>\n",
       "    </tr>\n",
       "  </tbody>\n",
       "</table>\n",
       "</div>"
      ],
      "text/plain": [
       "       antecedents consequents  antecedent support  consequent support  \\\n",
       "0   (potato chips)      (beer)                0.50                0.55   \n",
       "2           (wine)    (cheese)                0.40                0.40   \n",
       "4           (eggs)    (flower)                0.35                0.30   \n",
       "6           (eggs)    (butter)                0.35                0.30   \n",
       "8         (flower)    (butter)                0.30                0.30   \n",
       "10  (eggs, flower)    (butter)                0.30                0.30   \n",
       "\n",
       "    support  confidence      lift  leverage  conviction           item_list  \n",
       "0      0.45    0.900000  1.636364     0.175         4.5   beer,potato chips  \n",
       "2      0.35    0.875000  2.187500     0.190         4.8         cheese,wine  \n",
       "4      0.30    0.857143  2.857143     0.195         4.9         eggs,flower  \n",
       "6      0.30    0.857143  2.857143     0.195         4.9         butter,eggs  \n",
       "8      0.25    0.833333  2.777778     0.160         4.2       butter,flower  \n",
       "10     0.25    0.833333  2.777778     0.160         4.2  butter,eggs,flower  "
      ]
     },
     "execution_count": 286,
     "metadata": {},
     "output_type": "execute_result"
    }
   ],
   "source": [
    "rules"
   ]
  }
 ],
 "metadata": {
  "kernelspec": {
   "display_name": "Python 3",
   "language": "python",
   "name": "python3"
  },
  "language_info": {
   "codemirror_mode": {
    "name": "ipython",
    "version": 3
   },
   "file_extension": ".py",
   "mimetype": "text/x-python",
   "name": "python",
   "nbconvert_exporter": "python",
   "pygments_lexer": "ipython3",
   "version": "3.7.6"
  }
 },
 "nbformat": 4,
 "nbformat_minor": 4
}

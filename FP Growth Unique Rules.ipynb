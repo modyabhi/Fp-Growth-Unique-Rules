{
 "cells": [
  {
   "cell_type": "code",
   "execution_count": 1,
   "metadata": {},
   "outputs": [],
   "source": [
    "import pandas as pd\n",
    "from mlxtend.preprocessing import TransactionEncoder\n",
    "from mlxtend.frequent_patterns import fpgrowth as fp"
   ]
  },
  {
   "cell_type": "code",
   "execution_count": 2,
   "metadata": {},
   "outputs": [],
   "source": [
    "itemSetList = [\n",
    "    [\"beer\", \"wine\", \"cheese\"],\n",
    "    [\"beer\", \"potato chips\"],\n",
    "    [\"eggs\", \"flower\", \"butter\", \"cheese\"],\n",
    "    [\"eggs\", \"flower\", \"butter\", \"beer\", \"potato chips\"],\n",
    "    [\"wine\", \"cheese\"],\n",
    "    [\"potato chips\"],\n",
    "    [\"eggs\", \"flower\", \"butter\", \"wine\", \"cheese\"],\n",
    "    [\"eggs\", \"flower\", \"butter\", \"beer\", \"potato chips\"],\n",
    "    [\"wine\", \"beer\"],\n",
    "    [\"beer\", \"potato chips\"],\n",
    "    [\"butter\", \"eggs\"],\n",
    "    [\"beer\", \"potato chips\"],\n",
    "    [\"flower\", \"eggs\"],\n",
    "    [\"beer\", \"potato chips\"],\n",
    "    [\"eggs\", \"flower\", \"butter\", \"wine\", \"cheese\"],\n",
    "    [\"beer\", \"wine\", \"potato chips\", \"cheese\"],\n",
    "    [\"wine\", \"cheese\"],\n",
    "    [\"beer\", \"potato chips\"],\n",
    "    [\"wine\", \"cheese\"],\n",
    "    [\"beer\", \"potato chips\"],\n",
    "]"
   ]
  },
  {
   "cell_type": "code",
   "execution_count": 3,
   "metadata": {},
   "outputs": [],
   "source": [
    "te = TransactionEncoder()\n",
    "te_ary = te.fit(itemSetList).transform(itemSetList)\n",
    "df = pd.DataFrame(te_ary, columns=te.columns_)"
   ]
  },
  {
   "cell_type": "code",
   "execution_count": 4,
   "metadata": {},
   "outputs": [],
   "source": [
    "min_support = 7/len(itemSetList) \n",
    "frequent_itemsets = fp(df, min_support=min_support,use_colnames=True).sort_values('support',ascending= False)"
   ]
  },
  {
   "cell_type": "code",
   "execution_count": 5,
   "metadata": {},
   "outputs": [],
   "source": [
    "from mlxtend.frequent_patterns import association_rules\n",
    "rules = association_rules(frequent_itemsets , metric=\"confidence\", min_threshold=0.7)"
   ]
  },
  {
   "cell_type": "code",
   "execution_count": 6,
   "metadata": {},
   "outputs": [],
   "source": [
    "rules['item_list'] = rules['antecedents'].apply(list)+rules['consequents'].apply(list)\n",
    "rules['item_list'].apply(lambda x: x.sort())\n",
    "rules['item_list'] = [','.join(map(str, l)) for l in rules['item_list']]"
   ]
  },
  {
   "cell_type": "code",
   "execution_count": 7,
   "metadata": {},
   "outputs": [],
   "source": [
    "rules.drop_duplicates(subset=['item_list'],inplace = True)"
   ]
  },
  {
   "cell_type": "code",
   "execution_count": 8,
   "metadata": {},
   "outputs": [
    {
     "data": {
      "text/html": [
       "<div>\n",
       "<style scoped>\n",
       "    .dataframe tbody tr th:only-of-type {\n",
       "        vertical-align: middle;\n",
       "    }\n",
       "\n",
       "    .dataframe tbody tr th {\n",
       "        vertical-align: top;\n",
       "    }\n",
       "\n",
       "    .dataframe thead th {\n",
       "        text-align: right;\n",
       "    }\n",
       "</style>\n",
       "<table border=\"1\" class=\"dataframe\">\n",
       "  <thead>\n",
       "    <tr style=\"text-align: right;\">\n",
       "      <th></th>\n",
       "      <th>antecedents</th>\n",
       "      <th>consequents</th>\n",
       "      <th>antecedent support</th>\n",
       "      <th>consequent support</th>\n",
       "      <th>support</th>\n",
       "      <th>confidence</th>\n",
       "      <th>lift</th>\n",
       "      <th>leverage</th>\n",
       "      <th>conviction</th>\n",
       "      <th>item_list</th>\n",
       "    </tr>\n",
       "  </thead>\n",
       "  <tbody>\n",
       "    <tr>\n",
       "      <th>0</th>\n",
       "      <td>(beer)</td>\n",
       "      <td>(potato chips)</td>\n",
       "      <td>0.55</td>\n",
       "      <td>0.5</td>\n",
       "      <td>0.45</td>\n",
       "      <td>0.818182</td>\n",
       "      <td>1.636364</td>\n",
       "      <td>0.175</td>\n",
       "      <td>2.75</td>\n",
       "      <td>beer,potato chips</td>\n",
       "    </tr>\n",
       "    <tr>\n",
       "      <th>2</th>\n",
       "      <td>(wine)</td>\n",
       "      <td>(cheese)</td>\n",
       "      <td>0.40</td>\n",
       "      <td>0.4</td>\n",
       "      <td>0.35</td>\n",
       "      <td>0.875000</td>\n",
       "      <td>2.187500</td>\n",
       "      <td>0.190</td>\n",
       "      <td>4.80</td>\n",
       "      <td>cheese,wine</td>\n",
       "    </tr>\n",
       "  </tbody>\n",
       "</table>\n",
       "</div>"
      ],
      "text/plain": [
       "  antecedents     consequents  antecedent support  consequent support  \\\n",
       "0      (beer)  (potato chips)                0.55                 0.5   \n",
       "2      (wine)        (cheese)                0.40                 0.4   \n",
       "\n",
       "   support  confidence      lift  leverage  conviction          item_list  \n",
       "0     0.45    0.818182  1.636364     0.175        2.75  beer,potato chips  \n",
       "2     0.35    0.875000  2.187500     0.190        4.80        cheese,wine  "
      ]
     },
     "execution_count": 8,
     "metadata": {},
     "output_type": "execute_result"
    }
   ],
   "source": [
    "rules"
   ]
  }
 ],
 "metadata": {
  "kernelspec": {
   "display_name": "Python 3",
   "language": "python",
   "name": "python3"
  },
  "language_info": {
   "codemirror_mode": {
    "name": "ipython",
    "version": 3
   },
   "file_extension": ".py",
   "mimetype": "text/x-python",
   "name": "python",
   "nbconvert_exporter": "python",
   "pygments_lexer": "ipython3",
   "version": "3.7.6"
  }
 },
 "nbformat": 4,
 "nbformat_minor": 4
}
